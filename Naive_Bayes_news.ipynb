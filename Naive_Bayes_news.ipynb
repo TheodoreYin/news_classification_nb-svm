{
 "cells": [
  {
   "cell_type": "code",
   "execution_count": 87,
   "metadata": {
    "collapsed": true
   },
   "outputs": [],
   "source": [
    "from sklearn.datasets import fetch_20newsgroups\n",
    "news = fetch_20newsgroups(subset=\"all\")"
   ]
  },
  {
   "cell_type": "code",
   "execution_count": 88,
   "metadata": {
    "collapsed": false
   },
   "outputs": [
    {
     "data": {
      "text/plain": [
       "18846"
      ]
     },
     "execution_count": 88,
     "metadata": {},
     "output_type": "execute_result"
    }
   ],
   "source": [
    "len(news.data)"
   ]
  },
  {
   "cell_type": "code",
   "execution_count": 90,
   "metadata": {
    "collapsed": false
   },
   "outputs": [
    {
     "name": "stdout",
     "output_type": "stream",
     "text": [
      "From: Mamatha Devineni Ratnam <mr47+@andrew.cmu.edu>\n",
      "Subject: Pens fans reactions\n",
      "Organization: Post Office, Carnegie Mellon, Pittsburgh, PA\n",
      "Lines: 12\n",
      "NNTP-Posting-Host: po4.andrew.cmu.edu\n",
      "\n",
      "\n",
      "\n",
      "I am sure some bashers of Pens fans are pretty confused about the lack\n",
      "of any kind of posts about the recent Pens massacre of the Devils. Actually,\n",
      "I am  bit puzzled too and a bit relieved. However, I am going to put an end\n",
      "to non-PIttsburghers' relief with a bit of praise for the Pens. Man, they\n",
      "are killing those Devils worse than I thought. Jagr just showed you why\n",
      "he is much better than his regular season stats. He is also a lot\n",
      "fo fun to watch in the playoffs. Bowman should let JAgr have a lot of\n",
      "fun in the next couple of games since the Pens are going to beat the pulp out of Jersey anyway. I was very disappointed not to see the Islanders lose the final\n",
      "regular season game.          PENS RULE!!!\n",
      "\n",
      "\n"
     ]
    }
   ],
   "source": [
    "print(news.data[0])"
   ]
  },
  {
   "cell_type": "code",
   "execution_count": 3,
   "metadata": {
    "collapsed": false
   },
   "outputs": [
    {
     "name": "stdout",
     "output_type": "stream",
     "text": [
      "rec.sport.hockey\n"
     ]
    }
   ],
   "source": [
    "print(news.target_names[news.target[0]])"
   ]
  },
  {
   "cell_type": "code",
   "execution_count": 4,
   "metadata": {
    "collapsed": false
   },
   "outputs": [
    {
     "name": "stderr",
     "output_type": "stream",
     "text": [
      "/Library/Frameworks/Python.framework/Versions/3.5/lib/python3.5/site-packages/sklearn/cross_validation.py:44: DeprecationWarning: This module was deprecated in version 0.18 in favor of the model_selection module into which all the refactored classes and functions are moved. Also note that the interface of the new CV iterators are different from that of this module. This module will be removed in 0.20.\n",
      "  \"This module will be removed in 0.20.\", DeprecationWarning)\n"
     ]
    }
   ],
   "source": [
    "\n",
    "from sklearn.feature_extraction.text import CountVectorizer\n",
    "vec = CountVectorizer()\n",
    "X = vec.fit_transform(news.data)"
   ]
  },
  {
   "cell_type": "code",
   "execution_count": 94,
   "metadata": {
    "collapsed": false
   },
   "outputs": [
    {
     "name": "stdout",
     "output_type": "stream",
     "text": [
      "[[0 0 0 0 0 0 0 0 0 0]\n",
      " [0 0 0 0 0 0 0 0 0 0]\n",
      " [0 0 0 0 0 0 0 0 0 0]\n",
      " [0 0 0 0 0 0 0 0 0 0]\n",
      " [0 0 0 0 0 0 0 0 0 0]\n",
      " [0 0 0 0 0 0 0 0 0 0]\n",
      " [0 0 0 0 0 0 0 0 0 0]\n",
      " [3 0 0 0 0 0 0 0 0 0]\n",
      " [0 0 0 0 0 0 0 0 0 0]\n",
      " [0 0 0 0 0 0 0 0 0 0]]\n"
     ]
    }
   ],
   "source": [
    "print(X[:10, :10].toarray())"
   ]
  },
  {
   "cell_type": "code",
   "execution_count": 5,
   "metadata": {
    "collapsed": false
   },
   "outputs": [
    {
     "name": "stdout",
     "output_type": "stream",
     "text": [
      "[0, 629, 1803, 2867, 3192, 3925, 3958, 4950, 5180, 5384, 6477, 6760, 7028, 7684, 7803, 8130, 8724, 8755, 8817, 9119, 9218, 10620, 12405, 12498, 13225, 13278, 13954, 14105, 14227, 15032, 15810, 16217, 16639, 16876, 17520, 17649, 17776, 18022, 18642, 18680]\n"
     ]
    }
   ],
   "source": [
    "index = vec.vocabulary_.get(\"jagr\")\n",
    "print([x for x in range(X.shape[0]) if X[x, index]])"
   ]
  },
  {
   "cell_type": "code",
   "execution_count": 6,
   "metadata": {
    "collapsed": false
   },
   "outputs": [],
   "source": [
    "#using TF-IDF method to optimize the count\n",
    "from sklearn.feature_extraction.text import TfidfTransformer\n",
    "TFIDF = TfidfTransformer()\n",
    "X_tfidf = TFIDF.fit_transform(X)"
   ]
  },
  {
   "cell_type": "code",
   "execution_count": 95,
   "metadata": {
    "collapsed": false
   },
   "outputs": [
    {
     "name": "stdout",
     "output_type": "stream",
     "text": [
      "[[ 0.          0.          0.          0.          0.          0.          0.\n",
      "   0.          0.          0.        ]\n",
      " [ 0.          0.          0.          0.          0.          0.          0.\n",
      "   0.          0.          0.        ]\n",
      " [ 0.          0.          0.          0.          0.          0.          0.\n",
      "   0.          0.          0.        ]\n",
      " [ 0.          0.          0.          0.          0.          0.          0.\n",
      "   0.          0.          0.        ]\n",
      " [ 0.          0.          0.          0.          0.          0.          0.\n",
      "   0.          0.          0.        ]\n",
      " [ 0.          0.          0.          0.          0.          0.          0.\n",
      "   0.          0.          0.        ]\n",
      " [ 0.          0.          0.          0.          0.          0.          0.\n",
      "   0.          0.          0.        ]\n",
      " [ 0.14795455  0.          0.          0.          0.          0.          0.\n",
      "   0.          0.          0.        ]\n",
      " [ 0.          0.          0.          0.          0.          0.          0.\n",
      "   0.          0.          0.        ]\n",
      " [ 0.          0.          0.          0.          0.          0.          0.\n",
      "   0.          0.          0.        ]]\n"
     ]
    }
   ],
   "source": [
    "print(X_tfidf[:10, :10].toarray())"
   ]
  },
  {
   "cell_type": "code",
   "execution_count": 8,
   "metadata": {
    "collapsed": false
   },
   "outputs": [
    {
     "data": {
      "text/plain": [
       "array([ 59.73987114,  42.86875815,   0.6540125 , ...,   0.09863695,\n",
       "         0.36465923,   0.11190675])"
      ]
     },
     "execution_count": 8,
     "metadata": {},
     "output_type": "execute_result"
    }
   ],
   "source": [
    "total = X.sum(axis=0).A[0]\n",
    "total_tfidf = X_tfidf.sum(axis=0).A[0]\n",
    "total_tfidf\n"
   ]
  },
  {
   "cell_type": "code",
   "execution_count": 9,
   "metadata": {
    "collapsed": false
   },
   "outputs": [],
   "source": [
    "%matplotlib inline\n",
    "import matplotlib.pyplot as plt"
   ]
  },
  {
   "cell_type": "code",
   "execution_count": 10,
   "metadata": {
    "collapsed": false
   },
   "outputs": [
    {
     "data": {
      "text/plain": [
       "<Container object of 173762 artists>"
      ]
     },
     "execution_count": 10,
     "metadata": {},
     "output_type": "execute_result"
    },
    {
     "data": {
      "image/png": "[encoded data removed]",
      "text/plain": [
       "<matplotlib.figure.Figure at 0x66e634c>"
      ]
     },
     "metadata": {},
     "output_type": "display_data"
    }
   ],
   "source": [
    "plt.bar(range(len(total)), total)"
   ]
  },
  {
   "cell_type": "code",
   "execution_count": 10,
   "metadata": {
    "collapsed": false
   },
   "outputs": [
    {
     "data": {
      "text/plain": [
       "<Container object of 173762 artists>"
      ]
     },
     "execution_count": 10,
     "metadata": {},
     "output_type": "execute_result"
    },
    {
     "data": {
      "image/png": "[encoded data removed]",
      "text/plain": [
       "<matplotlib.figure.Figure at 0x65e092c>"
      ]
     },
     "metadata": {},
     "output_type": "display_data"
    }
   ],
   "source": [
    "\n",
    "plt.bar(range(len(total_tfidf)), total_tfidf)"
   ]
  },
  {
   "cell_type": "code",
   "execution_count": 71,
   "metadata": {
    "collapsed": false
   },
   "outputs": [],
   "source": [
    "from sklearn.cross_validation import train_test_split\n",
    "Xtrain, Xtest, ytrain, ytest = train_test_split(X, news.target, test_size=0.25, random_state=233)\n",
    "tf_Xtrain, tf_Xtest, tf_ytrain, tf_ytest = train_test_split(X_tfidf, news.target, test_size=0.25, random_state=233)"
   ]
  },
  {
   "cell_type": "code",
   "execution_count": 72,
   "metadata": {
    "collapsed": true
   },
   "outputs": [],
   "source": [
    "from sklearn.naive_bayes import MultinomialNB\n",
    "mnb = MultinomialNB()\n",
    "tf_mnb = MultinomialNB()"
   ]
  },
  {
   "cell_type": "code",
   "execution_count": 73,
   "metadata": {
    "collapsed": false
   },
   "outputs": [
    {
     "data": {
      "text/plain": [
       "MultinomialNB(alpha=1.0, class_prior=None, fit_prior=True)"
      ]
     },
     "execution_count": 73,
     "metadata": {},
     "output_type": "execute_result"
    }
   ],
   "source": [
    "mnb.fit(Xtrain, ytrain)\n",
    "tf_mnb.fit(tf_Xtrain, tf_ytrain)"
   ]
  },
  {
   "cell_type": "code",
   "execution_count": 74,
   "metadata": {
    "collapsed": false
   },
   "outputs": [
    {
     "name": "stdout",
     "output_type": "stream",
     "text": [
      "Naive Bayes Accuracy: 0.8448641765704584\n",
      "\n",
      "                          precision    recall  f1-score   support\n",
      "\n",
      "             alt.atheism       0.92      0.89      0.90       227\n",
      "           comp.graphics       0.61      0.87      0.71       254\n",
      " comp.os.ms-windows.misc       1.00      0.14      0.25       235\n",
      "comp.sys.ibm.pc.hardware       0.68      0.83      0.75       252\n",
      "   comp.sys.mac.hardware       0.86      0.86      0.86       237\n",
      "          comp.windows.x       0.76      0.89      0.82       243\n",
      "            misc.forsale       0.91      0.65      0.76       256\n",
      "               rec.autos       0.87      0.90      0.89       250\n",
      "         rec.motorcycles       0.98      0.92      0.95       279\n",
      "      rec.sport.baseball       0.96      0.94      0.95       233\n",
      "        rec.sport.hockey       0.97      0.97      0.97       241\n",
      "               sci.crypt       0.90      0.95      0.92       246\n",
      "         sci.electronics       0.84      0.81      0.83       233\n",
      "                 sci.med       0.90      0.93      0.91       229\n",
      "               sci.space       0.88      0.91      0.90       240\n",
      "  soc.religion.christian       0.80      0.95      0.87       252\n",
      "      talk.politics.guns       0.90      0.94      0.92       238\n",
      "   talk.politics.mideast       0.91      0.98      0.94       237\n",
      "      talk.politics.misc       0.72      0.93      0.81       188\n",
      "      talk.religion.misc       0.93      0.49      0.65       142\n",
      "\n",
      "             avg / total       0.86      0.84      0.83      4712\n",
      "\n"
     ]
    }
   ],
   "source": [
    "from sklearn.metrics import classification_report\n",
    "ypredict = mnb.predict(Xtest)\n",
    "print(\"Naive Bayes Accuracy: {0}\\n\".format(mnb.score(Xtest, ytest)))\n",
    "print(classification_report(ytest, ypredict, target_names=news.target_names))"
   ]
  },
  {
   "cell_type": "code",
   "execution_count": 79,
   "metadata": {
    "collapsed": false
   },
   "outputs": [
    {
     "name": "stdout",
     "output_type": "stream",
     "text": [
      "Naive Bayes with TF-IDF dataset Accuracy: 0.8531409168081494\n",
      "\n",
      "                          precision    recall  f1-score   support\n",
      "\n",
      "             alt.atheism       0.93      0.71      0.81       227\n",
      "           comp.graphics       0.89      0.73      0.80       254\n",
      " comp.os.ms-windows.misc       0.79      0.86      0.82       235\n",
      "comp.sys.ibm.pc.hardware       0.79      0.83      0.81       252\n",
      "   comp.sys.mac.hardware       0.90      0.83      0.87       237\n",
      "          comp.windows.x       0.93      0.85      0.89       243\n",
      "            misc.forsale       0.94      0.70      0.80       256\n",
      "               rec.autos       0.88      0.91      0.90       250\n",
      "         rec.motorcycles       0.97      0.94      0.95       279\n",
      "      rec.sport.baseball       0.95      0.95      0.95       233\n",
      "        rec.sport.hockey       0.90      0.98      0.94       241\n",
      "               sci.crypt       0.73      0.98      0.84       246\n",
      "         sci.electronics       0.85      0.82      0.84       233\n",
      "                 sci.med       0.95      0.92      0.93       229\n",
      "               sci.space       0.88      0.95      0.92       240\n",
      "  soc.religion.christian       0.58      0.98      0.73       252\n",
      "      talk.politics.guns       0.78      0.96      0.86       238\n",
      "   talk.politics.mideast       0.93      0.97      0.95       237\n",
      "      talk.politics.misc       1.00      0.70      0.82       188\n",
      "      talk.religion.misc       0.96      0.18      0.31       142\n",
      "\n",
      "             avg / total       0.87      0.85      0.85      4712\n",
      "\n"
     ]
    }
   ],
   "source": [
    "\n",
    "tf_ypredict = tf_mnb.predict(tf_Xtest)\n",
    "print(\"Naive Bayes with TF-IDF dataset Accuracy: {0}\\n\".format(tf_mnb.score(tf_Xtest, tf_ytest)))\n",
    "print(classification_report(tf_ytest, tf_ypredict, target_names=news.target_names))"
   ]
  },
  {
   "cell_type": "code",
   "execution_count": 81,
   "metadata": {
    "collapsed": false
   },
   "outputs": [
    {
     "data": {
      "text/plain": [
       "SVC(C=1.0, cache_size=200, class_weight=None, coef0=0.0,\n",
       "  decision_function_shape=None, degree=3, gamma='auto', kernel='linear',\n",
       "  max_iter=-1, probability=False, random_state=None, shrinking=True,\n",
       "  tol=0.001, verbose=False)"
      ]
     },
     "execution_count": 81,
     "metadata": {},
     "output_type": "execute_result"
    }
   ],
   "source": [
    "from sklearn.svm import SVC\n",
    "svc = SVC(kernel=\"linear\")\n",
    "svc.fit(tf_Xtrain, tf_ytrain)"
   ]
  },
  {
   "cell_type": "code",
   "execution_count": 82,
   "metadata": {
    "collapsed": false
   },
   "outputs": [
    {
     "name": "stdout",
     "output_type": "stream",
     "text": [
      "SVM Accuracy: 0.9187181663837012\n",
      "\n",
      "                          precision    recall  f1-score   support\n",
      "\n",
      "             alt.atheism       0.96      0.92      0.94       227\n",
      "           comp.graphics       0.80      0.88      0.84       254\n",
      " comp.os.ms-windows.misc       0.84      0.86      0.85       235\n",
      "comp.sys.ibm.pc.hardware       0.81      0.85      0.83       252\n",
      "   comp.sys.mac.hardware       0.91      0.91      0.91       237\n",
      "          comp.windows.x       0.89      0.91      0.90       243\n",
      "            misc.forsale       0.89      0.90      0.90       256\n",
      "               rec.autos       0.92      0.93      0.93       250\n",
      "         rec.motorcycles       0.98      0.94      0.96       279\n",
      "      rec.sport.baseball       0.96      0.97      0.97       233\n",
      "        rec.sport.hockey       0.98      0.98      0.98       241\n",
      "               sci.crypt       0.98      0.93      0.96       246\n",
      "         sci.electronics       0.83      0.88      0.86       233\n",
      "                 sci.med       0.92      0.94      0.93       229\n",
      "               sci.space       0.98      0.96      0.97       240\n",
      "  soc.religion.christian       0.95      0.92      0.94       252\n",
      "      talk.politics.guns       0.95      0.96      0.96       238\n",
      "   talk.politics.mideast       0.99      0.97      0.98       237\n",
      "      talk.politics.misc       0.96      0.92      0.94       188\n",
      "      talk.religion.misc       0.88      0.80      0.84       142\n",
      "\n",
      "             avg / total       0.92      0.92      0.92      4712\n",
      "\n"
     ]
    }
   ],
   "source": [
    "svm_ypredict = svc.predict(tf_Xtest)\n",
    "print(\"SVM Accuracy: {0}\\n\".format(svc.score(tf_Xtest, tf_ytest)))\n",
    "print(classification_report(tf_ytest, svm_ypredict, target_names=news.target_names))"
   ]
  }
 ],
 "metadata": {
  "kernelspec": {
   "display_name": "Python 3",
   "language": "python",
   "name": "python3"
  },
  "language_info": {
   "codemirror_mode": {
    "name": "ipython",
    "version": 3
   },
   "file_extension": ".py",
   "mimetype": "text/x-python",
   "name": "python",
   "nbconvert_exporter": "python",
   "pygments_lexer": "ipython3",
   "version": "3.5.1"
  }
 },
 "nbformat": 4,
 "nbformat_minor": 2
}
